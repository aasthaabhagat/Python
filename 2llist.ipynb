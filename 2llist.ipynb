{
 "cells": [
  {
   "cell_type": "code",
   "execution_count": null,
   "metadata": {},
   "outputs": [],
   "source": [
    "#slicing\n",
    "#list , tuple , string\n",
    "#l[start:stop:step]"
   ]
  },
  {
   "cell_type": "code",
   "execution_count": 1,
   "metadata": {},
   "outputs": [
    {
     "name": "stdout",
     "output_type": "stream",
     "text": [
      "[10, 20, 30, 40]\n"
     ]
    }
   ],
   "source": [
    "l=[10,20,30,40,50]\n",
    "print(l[:4])"
   ]
  },
  {
   "cell_type": "code",
   "execution_count": 2,
   "metadata": {},
   "outputs": [
    {
     "name": "stdout",
     "output_type": "stream",
     "text": [
      "[50, 40, 30]\n"
     ]
    }
   ],
   "source": [
    "print(l[4:1:-1])"
   ]
  },
  {
   "cell_type": "code",
   "execution_count": 4,
   "metadata": {},
   "outputs": [
    {
     "name": "stdout",
     "output_type": "stream",
     "text": [
      "[50, 40, 30]\n"
     ]
    }
   ],
   "source": [
    "print(l[-1:-4:-1])"
   ]
  },
  {
   "cell_type": "code",
   "execution_count": 5,
   "metadata": {},
   "outputs": [
    {
     "name": "stdout",
     "output_type": "stream",
     "text": [
      "[50, 40, 30, 20, 10]\n"
     ]
    }
   ],
   "source": [
    "#for reversing\n",
    "print(l[::-1])"
   ]
  },
  {
   "cell_type": "code",
   "execution_count": 6,
   "metadata": {},
   "outputs": [
    {
     "name": "stdout",
     "output_type": "stream",
     "text": [
      "[0, 2, 4, 6, 8, 10]\n",
      "[1, 3, 5, 7, 9]\n"
     ]
    }
   ],
   "source": [
    "#comprehensions\n",
    "''' \n",
    "even odd checking code  \n",
    "'''\n",
    "\n",
    "l1 = [ x for x in range(11) if x%2 == 0 ]\n",
    "print(l1)\n",
    "\n",
    "l2 = [ x for x in range(11) if x%2!=0 ]\n",
    "print(l2)"
   ]
  },
  {
   "cell_type": "code",
   "execution_count": 7,
   "metadata": {},
   "outputs": [
    {
     "name": "stdout",
     "output_type": "stream",
     "text": [
      "[0, 2, 4, 6, 8, 10]\n",
      "[1, 3, 5, 7, 9]\n"
     ]
    }
   ],
   "source": [
    "#alternate code\n",
    "l1 = []\n",
    "for x in range(11):\n",
    "    if x%2 == 0:\n",
    "        l1.append(x)\n",
    "l2 = []\n",
    "for x in range(11):\n",
    "    if x%2 != 0:\n",
    "        l2.append(x)\n",
    "print(l1)\n",
    "print(l2)"
   ]
  },
  {
   "cell_type": "code",
   "execution_count": 11,
   "metadata": {},
   "outputs": [
    {
     "name": "stdout",
     "output_type": "stream",
     "text": [
      "[3, 7]\n"
     ]
    }
   ],
   "source": [
    "#function to get a list that contains all items smaller than x\n",
    "def getSmaller(l,x):\n",
    "    return[e for e in l if e<x]\n",
    "l = [9,15,12,3,7,11]\n",
    "x = 9\n",
    "print(getSmaller(l,x))"
   ]
  },
  {
   "cell_type": "code",
   "execution_count": 12,
   "metadata": {},
   "outputs": [
    {
     "name": "stdout",
     "output_type": "stream",
     "text": [
      "[78, 2, 4, 8, 4]\n",
      "[19, 3, 57]\n"
     ]
    }
   ],
   "source": [
    "#even odd\n",
    "def getEvenOdd(l):\n",
    "    even = [x for x in l if x%2 == 0]\n",
    "    odd = [x for x  in l if x%2 != 0]\n",
    "    return even,odd\n",
    "l = [19,3,57,78,2,4,8,4]\n",
    "even,odd = getEvenOdd(l)\n",
    "print(even)\n",
    "print(odd)"
   ]
  },
  {
   "cell_type": "code",
   "execution_count": 13,
   "metadata": {},
   "outputs": [
    {
     "name": "stdout",
     "output_type": "stream",
     "text": [
      "['e', 'e', 'o', 'e', 'e']\n",
      "['geeks', 'gfg']\n",
      "[0, 2, 4, 6, 8, 10]\n"
     ]
    }
   ],
   "source": [
    "s = \"geeksforgeeks\"\n",
    "l1 = [x for x in s if x in \"aeiou\"]\n",
    "print(l1)\n",
    "\n",
    "\n",
    "l2=[\"geeks\",\"ide\",\"courses\",\"gfg\"]\n",
    "l3=[x for x in l2 if x.startswith(\"g\")]\n",
    "print(l3)\n",
    "\n",
    "\n",
    "l4=[x*2 for x in range(6)]\n",
    "print(l4)"
   ]
  },
  {
   "cell_type": "code",
   "execution_count": 14,
   "metadata": {},
   "outputs": [
    {
     "name": "stdout",
     "output_type": "stream",
     "text": [
      "{4, 40, 10, 50, 20, 30}\n",
      "{3, 5, 7}\n"
     ]
    }
   ],
   "source": [
    "#set comprehension\n",
    "l = [10,20,30,40,50,3,4,5,7]\n",
    "s1 = {x for x in l if x%2 ==0}\n",
    "s2 = { x for x in l if x%2 != 0}\n",
    "print(s1)\n",
    "print(s2)"
   ]
  },
  {
   "cell_type": "code",
   "execution_count": 15,
   "metadata": {},
   "outputs": [
    {
     "name": "stdout",
     "output_type": "stream",
     "text": [
      "{1: 1, 2: 8, 3: 27, 4: 64, 5: 125}\n"
     ]
    }
   ],
   "source": [
    "#dictionary comprehension\n",
    "l1 = [1,2,3,4,5]\n",
    "d1 = {x:x**3 for x in l1}\n",
    "print(d1)"
   ]
  },
  {
   "cell_type": "code",
   "execution_count": 17,
   "metadata": {},
   "outputs": [
    {
     "name": "stdout",
     "output_type": "stream",
     "text": [
      "{0: 'ID0', 1: 'ID1', 2: 'ID2', 3: 'ID3', 4: 'ID4'}\n"
     ]
    }
   ],
   "source": [
    "d2 = {x:f\"ID{x}\" for x in range(5)}\n",
    "print(d2)"
   ]
  },
  {
   "cell_type": "code",
   "execution_count": 18,
   "metadata": {},
   "outputs": [],
   "source": [
    "l2 = [101,103,102]\n",
    "l3 = [\"gfg\",\"ide\",\"coworkers\"]\n",
    "d3 = {l2[i]:l3[i] for i in range(len(l2))}"
   ]
  },
  {
   "cell_type": "code",
   "execution_count": null,
   "metadata": {},
   "outputs": [],
   "source": []
  },
  {
   "cell_type": "code",
   "execution_count": null,
   "metadata": {},
   "outputs": [],
   "source": []
  }
 ],
 "metadata": {
  "kernelspec": {
   "display_name": "base",
   "language": "python",
   "name": "python3"
  },
  "language_info": {
   "codemirror_mode": {
    "name": "ipython",
    "version": 3
   },
   "file_extension": ".py",
   "mimetype": "text/x-python",
   "name": "python",
   "nbconvert_exporter": "python",
   "pygments_lexer": "ipython3",
   "version": "3.11.3"
  }
 },
 "nbformat": 4,
 "nbformat_minor": 2
}
