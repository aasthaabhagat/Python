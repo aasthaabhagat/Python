{
 "cells": [
  {
   "cell_type": "code",
   "execution_count": 2,
   "metadata": {},
   "outputs": [
    {
     "name": "stdout",
     "output_type": "stream",
     "text": [
      "The largest number is: 30\n"
     ]
    }
   ],
   "source": [
    "#find largest number\n",
    "def find_largest(numbers):\n",
    "    if not numbers:\n",
    "        return None  # Return None for empty list\n",
    "    return max(numbers)\n",
    "\n",
    "# Example usage:\n",
    "numbers = [10, 5, 20, 15, 30]\n",
    "largest = find_largest(numbers)\n",
    "print(\"The largest number is:\", largest)\n"
   ]
  },
  {
   "cell_type": "code",
   "execution_count": 3,
   "metadata": {},
   "outputs": [
    {
     "name": "stdout",
     "output_type": "stream",
     "text": [
      "The largest number is: 30\n"
     ]
    }
   ],
   "source": [
    "def find_largest(numbers):\n",
    "    if not numbers:\n",
    "        return None  # Return None for empty list\n",
    "    largest = numbers[0]  # Initialize largest with the first element of the list\n",
    "    for num in numbers:\n",
    "        if num > largest:\n",
    "            largest = num\n",
    "    return largest\n",
    "\n",
    "# Example usage:\n",
    "numbers = [10, 5, 20, 15, 30]\n",
    "largest = find_largest(numbers)\n",
    "print(\"The largest number is:\", largest)\n"
   ]
  },
  {
   "cell_type": "code",
   "execution_count": 4,
   "metadata": {},
   "outputs": [
    {
     "name": "stdout",
     "output_type": "stream",
     "text": [
      "no\n"
     ]
    }
   ],
   "source": [
    "#check wheather list is sorted or not\n",
    "\n",
    "def isSorted(l):\n",
    "    i = 1\n",
    "    while i < len(l):\n",
    "        if l[i] < l[i-1]:\n",
    "            return False\n",
    "        i = i + 1\n",
    "    return True\n",
    "l = [10,20,30,15,40]\n",
    "if isSorted(l):\n",
    "    print(\"yes\")\n",
    "else:\n",
    "    print(\"no\")"
   ]
  },
  {
   "cell_type": "code",
   "execution_count": null,
   "metadata": {},
   "outputs": [],
   "source": []
  },
  {
   "cell_type": "code",
   "execution_count": null,
   "metadata": {},
   "outputs": [],
   "source": []
  }
 ],
 "metadata": {
  "kernelspec": {
   "display_name": "base",
   "language": "python",
   "name": "python3"
  },
  "language_info": {
   "codemirror_mode": {
    "name": "ipython",
    "version": 3
   },
   "file_extension": ".py",
   "mimetype": "text/x-python",
   "name": "python",
   "nbconvert_exporter": "python",
   "pygments_lexer": "ipython3",
   "version": "3.11.3"
  }
 },
 "nbformat": 4,
 "nbformat_minor": 2
}
