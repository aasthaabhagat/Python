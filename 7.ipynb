{
 "cells": [
  {
   "cell_type": "code",
   "execution_count": 1,
   "metadata": {},
   "outputs": [
    {
     "name": "stdout",
     "output_type": "stream",
     "text": [
      "16\n",
      "17\n",
      "22\n",
      "23\n",
      "12\n",
      "13\n",
      "15\n"
     ]
    }
   ],
   "source": [
    "s = { 12,15,13,23,22,16,17}\n",
    "for ele in s:\n",
    "    print(ele)"
   ]
  },
  {
   "cell_type": "code",
   "execution_count": 3,
   "metadata": {},
   "outputs": [
    {
     "name": "stdout",
     "output_type": "stream",
     "text": [
      "{1, 2, 3, 4}\n"
     ]
    }
   ],
   "source": [
    "s1={1,2,3,4}\n",
    "s2=s1.copy()\n",
    "s2.add(5)\n",
    "print(s1)"
   ]
  },
  {
   "cell_type": "code",
   "execution_count": 4,
   "metadata": {},
   "outputs": [
    {
     "name": "stdout",
     "output_type": "stream",
     "text": [
      "{33, 70, 40, 10, 44, 50, 51, 20, 60, 30}\n"
     ]
    }
   ],
   "source": [
    "a = {10, 20, 30, 40, 50, 60, 70}\n",
    "b = {33, 44, 51, 10, 20,50, 30, 33}\n",
    "print(a | b)"
   ]
  },
  {
   "cell_type": "code",
   "execution_count": 5,
   "metadata": {},
   "outputs": [
    {
     "name": "stdout",
     "output_type": "stream",
     "text": [
      "{1, 2, 5, 6}\n"
     ]
    }
   ],
   "source": [
    "a={1,2,3,4}\n",
    "b={3,4,5,6}\n",
    "print(a^b)\n",
    " \n",
    "\n"
   ]
  },
  {
   "cell_type": "code",
   "execution_count": 6,
   "metadata": {},
   "outputs": [
    {
     "name": "stdout",
     "output_type": "stream",
     "text": [
      "{20, 30}\n"
     ]
    }
   ],
   "source": [
    "a={10,20,30}\n",
    "a.intersection_update({20,30,40,50})\n",
    "print(a)"
   ]
  },
  {
   "cell_type": "markdown",
   "metadata": {},
   "source": [
    "DICTIONARIES\n",
    "collection of key value pairs also known as maps associative arrays"
   ]
  },
  {
   "cell_type": "code",
   "execution_count": 7,
   "metadata": {},
   "outputs": [
    {
     "name": "stdout",
     "output_type": "stream",
     "text": [
      "{'Python': 1, 'Forever': 3}\n"
     ]
    }
   ],
   "source": [
    "d = {\"Python\":1, \"Rules\":2, \"Forever\":3}\n",
    "del(d[\"Rules\"])\n",
    "print(d)"
   ]
  },
  {
   "cell_type": "code",
   "execution_count": 8,
   "metadata": {},
   "outputs": [
    {
     "name": "stdout",
     "output_type": "stream",
     "text": [
      "1 Python 2 Rules 3 Forever "
     ]
    }
   ],
   "source": [
    "dict={1:\"Python\",2:\"Rules\",3:\"Forever\"}\n",
    "for i,j in dict.items():\n",
    "    print(i,j,end=\" \")\n",
    " "
   ]
  },
  {
   "cell_type": "code",
   "execution_count": null,
   "metadata": {},
   "outputs": [],
   "source": []
  }
 ],
 "metadata": {
  "kernelspec": {
   "display_name": "base",
   "language": "python",
   "name": "python3"
  },
  "language_info": {
   "codemirror_mode": {
    "name": "ipython",
    "version": 3
   },
   "file_extension": ".py",
   "mimetype": "text/x-python",
   "name": "python",
   "nbconvert_exporter": "python",
   "pygments_lexer": "ipython3",
   "version": "3.11.3"
  }
 },
 "nbformat": 4,
 "nbformat_minor": 2
}
