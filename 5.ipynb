{
 "cells": [
  {
   "cell_type": "markdown",
   "metadata": {},
   "source": [
    "lLIST \n",
    "list are containers\n",
    "can hold multiple values\n",
    "can have duplicate values\n",
    "you can create empty list\n"
   ]
  },
  {
   "cell_type": "code",
   "execution_count": 1,
   "metadata": {},
   "outputs": [
    {
     "name": "stdout",
     "output_type": "stream",
     "text": [
      "['able', 'was', 'i', 'saw', 'elbA']\n"
     ]
    }
   ],
   "source": [
    "lst = [\"able\",'was','i','saw','elbA']\n",
    "print(lst)"
   ]
  },
  {
   "cell_type": "code",
   "execution_count": 3,
   "metadata": {},
   "outputs": [
    {
     "name": "stdout",
     "output_type": "stream",
     "text": [
      "['was', 'i', 'saw']\n"
     ]
    }
   ],
   "source": [
    "print(lst[1:4])"
   ]
  },
  {
   "cell_type": "code",
   "execution_count": 4,
   "metadata": {},
   "outputs": [
    {
     "name": "stdout",
     "output_type": "stream",
     "text": [
      "['saw', 'elbA']\n"
     ]
    }
   ],
   "source": [
    "print(lst[3:])"
   ]
  },
  {
   "cell_type": "code",
   "execution_count": 5,
   "metadata": {},
   "outputs": [
    {
     "name": "stdout",
     "output_type": "stream",
     "text": [
      "zebra\n",
      "tiger\n",
      "lion\n",
      "kangaroo\n"
     ]
    }
   ],
   "source": [
    "animals = ['zebra','tiger','lion','kangaroo']\n",
    "i = 0\n",
    "while i < len(animals):\n",
    "    print(animals[i])\n",
    "    i += 1"
   ]
  },
  {
   "cell_type": "code",
   "execution_count": 7,
   "metadata": {},
   "outputs": [
    {
     "name": "stdout",
     "output_type": "stream",
     "text": [
      "['zebra', 'tiger', 'lion', 'kangaroo']\n",
      "['zebra', 'tiger', 'lion', 'kangaroo']\n",
      "['zebra', 'tiger', 'lion', 'kangaroo']\n",
      "['zebra', 'tiger', 'lion', 'kangaroo']\n"
     ]
    }
   ],
   "source": [
    "animals = ['zebra','tiger','lion','kangaroo']\n",
    "for a in animals:\n",
    "    print(animals)\n",
    "   "
   ]
  },
  {
   "cell_type": "code",
   "execution_count": 13,
   "metadata": {},
   "outputs": [
    {
     "name": "stdout",
     "output_type": "stream",
     "text": [
      "['abc', 'cafa', 'mango', 'apple', 'banana']\n"
     ]
    }
   ],
   "source": [
    "list = ['abc','cafa','mango','apple','banana']\n",
    "print(list)"
   ]
  },
  {
   "cell_type": "code",
   "execution_count": 14,
   "metadata": {},
   "outputs": [
    {
     "name": "stdout",
     "output_type": "stream",
     "text": [
      "5\n"
     ]
    }
   ],
   "source": [
    "print(len(list))"
   ]
  },
  {
   "cell_type": "code",
   "execution_count": 15,
   "metadata": {},
   "outputs": [
    {
     "name": "stdout",
     "output_type": "stream",
     "text": [
      "['abc', 'apple', 'banana', 'cafa', 'mango']\n"
     ]
    }
   ],
   "source": [
    "print(sorted(list))"
   ]
  },
  {
   "cell_type": "code",
   "execution_count": 17,
   "metadata": {},
   "outputs": [
    {
     "name": "stdout",
     "output_type": "stream",
     "text": [
      "<list_reverseiterator object at 0x000001941C0460E0>\n"
     ]
    }
   ],
   "source": [
    "print(reversed(list))"
   ]
  },
  {
   "cell_type": "code",
   "execution_count": null,
   "metadata": {},
   "outputs": [],
   "source": []
  },
  {
   "cell_type": "code",
   "execution_count": null,
   "metadata": {},
   "outputs": [],
   "source": []
  },
  {
   "cell_type": "code",
   "execution_count": null,
   "metadata": {},
   "outputs": [],
   "source": []
  }
 ],
 "metadata": {
  "kernelspec": {
   "display_name": "base",
   "language": "python",
   "name": "python3"
  },
  "language_info": {
   "codemirror_mode": {
    "name": "ipython",
    "version": 3
   },
   "file_extension": ".py",
   "mimetype": "text/x-python",
   "name": "python",
   "nbconvert_exporter": "python",
   "pygments_lexer": "ipython3",
   "version": "3.11.3"
  }
 },
 "nbformat": 4,
 "nbformat_minor": 2
}
