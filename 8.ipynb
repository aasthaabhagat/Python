{
 "cells": [
  {
   "cell_type": "markdown",
   "metadata": {},
   "source": [
    "FUNCTIONS\n",
    "Block of statement that perform a specific task."
   ]
  },
  {
   "cell_type": "code",
   "execution_count": 3,
   "metadata": {},
   "outputs": [
    {
     "name": "stdout",
     "output_type": "stream",
     "text": [
      "7\n"
     ]
    },
    {
     "data": {
      "text/plain": [
       "7"
      ]
     },
     "execution_count": 3,
     "metadata": {},
     "output_type": "execute_result"
    }
   ],
   "source": [
    "def calc_sum(a,b):\n",
    "    sum = a + b\n",
    "    print(sum)\n",
    "    return sum\n",
    "\n",
    "calc_sum(5,2)\n",
    "\n"
   ]
  },
  {
   "cell_type": "code",
   "execution_count": 1,
   "metadata": {},
   "outputs": [
    {
     "name": "stdout",
     "output_type": "stream",
     "text": [
      "[[4, 5, 6], [5, 6, 7], [6, 7, 8]]\n"
     ]
    }
   ],
   "source": [
    "lst = [[a + b for a in[1,2,3]] for b in[3,4,5] ]\n",
    "print(lst)"
   ]
  },
  {
   "cell_type": "code",
   "execution_count": 5,
   "metadata": {},
   "outputs": [
    {
     "name": "stdout",
     "output_type": "stream",
     "text": [
      "[33, 55, 66]\n",
      "[22, 44, 66, 4, 110, 132]\n",
      "[66, 110, 132]\n",
      "[33, 55, 66]\n"
     ]
    }
   ],
   "source": [
    "x = [11,22,33,2,55,66]\n",
    "y = [ele for ele in x if ele > 25]\n",
    "print(y)\n",
    "z = [ele*2 for ele in x]\n",
    "print(z)\n",
    "\n",
    "w = [ele*2 for ele in x if ele > 25]\n",
    "print(w)\n",
    "\n",
    "q=[]\n",
    "for ele in x:\n",
    "    if ele > 25:\n",
    "        q.append(ele)\n",
    "print(q)"
   ]
  },
  {
   "cell_type": "code",
   "execution_count": 6,
   "metadata": {},
   "outputs": [
    {
     "name": "stdout",
     "output_type": "stream",
     "text": [
      "[('PYTHON', 6), ('RULES', 5), ('FOREVER', 7)]\n"
     ]
    }
   ],
   "source": [
    "lst=[\"Python\", \"Rules\", \"Forever\"]\n",
    "print([(str.upper(), len(str)) for str in lst])\n",
    " "
   ]
  },
  {
   "cell_type": "code",
   "execution_count": 7,
   "metadata": {},
   "outputs": [
    {
     "name": "stdout",
     "output_type": "stream",
     "text": [
      "[0, 0, 0]\n"
     ]
    }
   ],
   "source": [
    "lst1=[1,2,3]\n",
    "lst2=[-1,-2,-3]\n",
    "lst3=[x+y for x, y in zip(lst1, lst2)]\n",
    "print(lst3)\n",
    " "
   ]
  },
  {
   "cell_type": "code",
   "execution_count": 8,
   "metadata": {},
   "outputs": [
    {
     "name": "stdout",
     "output_type": "stream",
     "text": [
      "['Python']\n"
     ]
    }
   ],
   "source": [
    "lst=[\"Python\", \"Rules?\", \"Forever!\", \"#1\"]\n",
    "print([ele for ele in lst if ele.isalpha() or ele.isdigit()])"
   ]
  },
  {
   "cell_type": "code",
   "execution_count": 9,
   "metadata": {},
   "outputs": [
    {
     "name": "stdout",
     "output_type": "stream",
     "text": [
      "{10, 20}\n"
     ]
    }
   ],
   "source": [
    "x = [10,13,15,20,23,25]\n",
    "y = { ele for ele in x if ele % 5 == 0 and ele % 2 == 0}\n",
    "print(y)\n",
    "\n"
   ]
  },
  {
   "cell_type": "code",
   "execution_count": 10,
   "metadata": {},
   "outputs": [
    {
     "name": "stdout",
     "output_type": "stream",
     "text": [
      "{'srini': 23, 'oza': 15, 'beena': 20}\n"
     ]
    }
   ],
   "source": [
    "data = [('srini', 23), ('oza', 15), ('rohan', 8), ('ganesh', 4), ('beena', 20)]\n",
    "dict = {key: value for (key, value) in data if value > 10}\n",
    "print(dict)"
   ]
  },
  {
   "cell_type": "code",
   "execution_count": 11,
   "metadata": {},
   "outputs": [
    {
     "name": "stdout",
     "output_type": "stream",
     "text": [
      "{'ganesh': 4}\n"
     ]
    }
   ],
   "source": [
    "data = [('srini', 23), ('oza', 15), ('rohan', 8), ('ganesh', 4), ('beena', 20)]\n",
    "dict = {key: value for (key, value) in data if len(key) > 5}\n",
    "print(dict)"
   ]
  },
  {
   "cell_type": "code",
   "execution_count": 12,
   "metadata": {},
   "outputs": [
    {
     "name": "stdout",
     "output_type": "stream",
     "text": [
      "0 1\n",
      "0 2\n",
      "1 1\n",
      "1 2\n"
     ]
    }
   ],
   "source": [
    "for i in range(0,2):\n",
    "    for j in range(1,3):\n",
    "        print(i,j)"
   ]
  },
  {
   "cell_type": "code",
   "execution_count": 13,
   "metadata": {},
   "outputs": [
    {
     "name": "stdout",
     "output_type": "stream",
     "text": [
      "0\n",
      "1\n",
      "2\n",
      "3\n",
      "4\n"
     ]
    }
   ],
   "source": [
    "x = (i for i in range(5))\n",
    "for i in x:\n",
    "    print(i)\n",
    " "
   ]
  },
  {
   "cell_type": "code",
   "execution_count": 14,
   "metadata": {},
   "outputs": [
    {
     "name": "stdout",
     "output_type": "stream",
     "text": [
      "python, rules, forever, "
     ]
    }
   ],
   "source": [
    "string = \"python rules forever\"\n",
    "for i in string.split():\n",
    "    print (i, end=\", \")"
   ]
  },
  {
   "cell_type": "code",
   "execution_count": 15,
   "metadata": {},
   "outputs": [
    {
     "name": "stdout",
     "output_type": "stream",
     "text": [
      "20\n"
     ]
    }
   ],
   "source": [
    "lst = [ [ [10, 20], [30, 40] ], [ [50, 60], [70, 80] ] ] \n",
    "print(lst[0][0][1])\n",
    " "
   ]
  },
  {
   "cell_type": "code",
   "execution_count": 16,
   "metadata": {},
   "outputs": [
    {
     "name": "stdout",
     "output_type": "stream",
     "text": [
      "4\n"
     ]
    }
   ],
   "source": [
    "dict={}\n",
    "dict[2]=1\n",
    "dict[1]=[2,3,4]\n",
    "print(dict[1][2])"
   ]
  },
  {
   "cell_type": "code",
   "execution_count": 17,
   "metadata": {},
   "outputs": [
    {
     "name": "stdout",
     "output_type": "stream",
     "text": [
      "(1, 2, 3, 4)\n"
     ]
    }
   ],
   "source": [
    "tup1=(1,2)\n",
    "tup2=(3,4)\n",
    "tup3 = tup1 + tup2\n",
    "print(tup3)\n",
    " "
   ]
  },
  {
   "cell_type": "code",
   "execution_count": 18,
   "metadata": {},
   "outputs": [
    {
     "name": "stdout",
     "output_type": "stream",
     "text": [
      "{10, 20}\n",
      "{40, 50, 60}\n"
     ]
    }
   ],
   "source": [
    "s1={10, 20, 30}\n",
    "s2={30, 40, 50, 60}\n",
    "print(s1.difference(s2))\n",
    "print(s2.difference(s1))\n",
    " "
   ]
  },
  {
   "cell_type": "code",
   "execution_count": 19,
   "metadata": {},
   "outputs": [
    {
     "name": "stdout",
     "output_type": "stream",
     "text": [
      "12\n"
     ]
    }
   ],
   "source": [
    "lst = [[x, y] for x in range(0, 3) for y in range(0, 4)]\n",
    "print(len(lst))\n",
    " "
   ]
  },
  {
   "cell_type": "code",
   "execution_count": null,
   "metadata": {},
   "outputs": [],
   "source": []
  },
  {
   "cell_type": "code",
   "execution_count": null,
   "metadata": {},
   "outputs": [],
   "source": []
  }
 ],
 "metadata": {
  "kernelspec": {
   "display_name": "base",
   "language": "python",
   "name": "python3"
  },
  "language_info": {
   "codemirror_mode": {
    "name": "ipython",
    "version": 3
   },
   "file_extension": ".py",
   "mimetype": "text/x-python",
   "name": "python",
   "nbconvert_exporter": "python",
   "pygments_lexer": "ipython3",
   "version": "3.11.3"
  }
 },
 "nbformat": 4,
 "nbformat_minor": 2
}
