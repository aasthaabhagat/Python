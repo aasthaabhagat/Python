{
 "cells": [
  {
   "cell_type": "code",
   "execution_count": null,
   "metadata": {},
   "outputs": [],
   "source": [
    "#list\n",
    "#list container is array based\n",
    "#it is dynamic in size\n",
    "#allows items of different type"
   ]
  },
  {
   "cell_type": "code",
   "execution_count": 1,
   "metadata": {},
   "outputs": [
    {
     "name": "stdout",
     "output_type": "stream",
     "text": [
      "[10, 20, 30, 40, 50]\n",
      "40\n",
      "50\n",
      "40\n"
     ]
    }
   ],
   "source": [
    "l = [10,20,30,40,50]\n",
    "print(l)\n",
    "print(l[3])\n",
    "print(l[-1])\n",
    "print(l[-2])"
   ]
  },
  {
   "cell_type": "code",
   "execution_count": 3,
   "metadata": {},
   "outputs": [
    {
     "name": "stdout",
     "output_type": "stream",
     "text": [
      "[10, 20, 30, 40, 50, 30]\n",
      "[10, 15, 20, 30, 40, 50, 30]\n",
      "True\n",
      "2\n",
      "3\n"
     ]
    }
   ],
   "source": [
    "l=[10,20,30,40,50]\n",
    "\n",
    "l.append(30)\n",
    "print(l)\n",
    "\n",
    "l.insert(1,15)\n",
    "print(l)\n",
    "print(15 in l)\n",
    "print(l.count(30))\n",
    "print(l.index(30))"
   ]
  },
  {
   "cell_type": "code",
   "execution_count": 12,
   "metadata": {},
   "outputs": [
    {
     "name": "stdout",
     "output_type": "stream",
     "text": [
      "[10, 30, 40, 50, 60, 70, 80]\n",
      "30\n",
      "[10, 40, 50, 60, 70, 80]\n",
      "50\n",
      "[10, 40, 60, 70, 80]\n",
      "[10, 60, 70, 80]\n",
      "[70, 80]\n"
     ]
    }
   ],
   "source": [
    "l = [10,20,30,40,50,60,70,80]\n",
    "l.remove(20)\n",
    "print(l)\n",
    "print(l.pop(1))\n",
    "print(l)\n",
    "print(l.pop(2))\n",
    "print(l)\n",
    "del l[1]\n",
    "print(l)\n",
    "del l[0:2]\n",
    "print(l)"
   ]
  },
  {
   "cell_type": "code",
   "execution_count": 15,
   "metadata": {},
   "outputs": [
    {
     "name": "stdout",
     "output_type": "stream",
     "text": [
      "10\n",
      "50\n",
      "150\n",
      "[30, 40, 50, 20, 10]\n",
      "[10, 20, 30, 40, 50]\n"
     ]
    }
   ],
   "source": [
    "l = [10,20,50,40,30]\n",
    "print(min(l))\n",
    "print(max(l))\n",
    "print(sum(l))\n",
    "l.reverse()\n",
    "print(l)\n",
    "l.sort()\n",
    "print(l)"
   ]
  },
  {
   "cell_type": "code",
   "execution_count": null,
   "metadata": {},
   "outputs": [],
   "source": [
    "# list uses array datastructure\n",
    "#dynamic sized array\n",
    "\n",
    "'''\n",
    "advantages :\n",
    "random access\n",
    "cache friendly\n",
    "\n",
    "disadvantages :\n",
    "insertion deletion are slow\n",
    "search in also slow for unordered\n",
    "\n",
    "'''\n",
    "\n",
    "#time complexity of appending(n+1) items in list is theta(0)"
   ]
  },
  {
   "cell_type": "code",
   "execution_count": 16,
   "metadata": {},
   "outputs": [
    {
     "name": "stdout",
     "output_type": "stream",
     "text": [
      "25.0\n"
     ]
    }
   ],
   "source": [
    "# average or mean of a list\n",
    "\n",
    "'''i/p l = [10,20,30,40]\n",
    "   o/p = 25.0'''\n",
    "\n",
    "\n",
    "def average(l):\n",
    "    sum = 0\n",
    "    for x in l:\n",
    "        sum = sum + x\n",
    "    n = len(l)\n",
    "    return sum/n\n",
    "l = [10,20,30,40]\n",
    "print(average(l))"
   ]
  },
  {
   "cell_type": "code",
   "execution_count": 18,
   "metadata": {},
   "outputs": [
    {
     "name": "stdout",
     "output_type": "stream",
     "text": [
      "43.333333333333336\n"
     ]
    }
   ],
   "source": [
    "def average(l):\n",
    "    sum = 0\n",
    "    for x in l:\n",
    "        sum = sum + x\n",
    "    n = len(l)\n",
    "    return sum/n\n",
    "l = [30,60,40]\n",
    "print(average(l))"
   ]
  },
  {
   "cell_type": "code",
   "execution_count": null,
   "metadata": {},
   "outputs": [],
   "source": [
    "#seperate even and odd\n",
    "\n",
    "'''i/p : l=[10,41,30,15,80]\n",
    "   o/p  : even=[10,30,80]\n",
    "          odd=[41,15]  '''"
   ]
  },
  {
   "cell_type": "code",
   "execution_count": 1,
   "metadata": {},
   "outputs": [
    {
     "name": "stdout",
     "output_type": "stream",
     "text": [
      "[10, 12, 16]\n",
      "[11]\n"
     ]
    }
   ],
   "source": [
    "def getEvenOdd(l):\n",
    "    even = []\n",
    "    odd = []\n",
    "    for x in l:\n",
    "        if x%2 == 0:\n",
    "            even.append(x)\n",
    "        else:\n",
    "            odd.append(x)\n",
    "    return even,odd\n",
    "l = [10,12,11,16]\n",
    "even,odd = getEvenOdd(l)\n",
    "print(even)\n",
    "print(odd)"
   ]
  },
  {
   "cell_type": "code",
   "execution_count": 5,
   "metadata": {},
   "outputs": [
    {
     "name": "stdout",
     "output_type": "stream",
     "text": [
      "even: [2, 4, 6, 8, 10]\n",
      "odd: [1, 3, 5, 7, 9]\n"
     ]
    }
   ],
   "source": [
    "def EvenOdd(l):\n",
    "    even = []\n",
    "    odd = []\n",
    "    for x in l:\n",
    "        if x%2==0:\n",
    "            even.append(x)\n",
    "        else:\n",
    "            odd.append(x)\n",
    "    return even,odd\n",
    "l = [1,2,3,4,5,6,7,8,9,10]\n",
    "even,odd = getEvenOdd(l)\n",
    "print(\"even:\",even)\n",
    "print(\"odd:\",odd)"
   ]
  },
  {
   "cell_type": "code",
   "execution_count": 7,
   "metadata": {},
   "outputs": [
    {
     "name": "stdout",
     "output_type": "stream",
     "text": [
      "[4]\n"
     ]
    }
   ],
   "source": [
    "#get smaller element from list by comparing to the given number\n",
    "def getSmaller(l,x):\n",
    "    res = []\n",
    "    for e in l:\n",
    "        if e < x:\n",
    "            res.append(e)\n",
    "    return res\n",
    "l = [8,100,20,30,40,59,88,4]\n",
    "x = 7\n",
    "print(getSmaller(l,x))"
   ]
  },
  {
   "cell_type": "code",
   "execution_count": null,
   "metadata": {},
   "outputs": [],
   "source": []
  }
 ],
 "metadata": {
  "kernelspec": {
   "display_name": "base",
   "language": "python",
   "name": "python3"
  },
  "language_info": {
   "codemirror_mode": {
    "name": "ipython",
    "version": 3
   },
   "file_extension": ".py",
   "mimetype": "text/x-python",
   "name": "python",
   "nbconvert_exporter": "python",
   "pygments_lexer": "ipython3",
   "version": "3.11.3"
  }
 },
 "nbformat": 4,
 "nbformat_minor": 2
}
